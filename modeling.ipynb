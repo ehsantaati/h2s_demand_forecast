{
 "cells": [
  {
   "cell_type": "code",
   "execution_count": 1,
   "metadata": {},
   "outputs": [
    {
     "name": "stderr",
     "output_type": "stream",
     "text": [
      "c:\\Users\\etaati\\Documents\\projects\\h2s_demand_forecast\\.venv\\Lib\\site-packages\\tqdm\\auto.py:21: TqdmWarning: IProgress not found. Please update jupyter and ipywidgets. See https://ipywidgets.readthedocs.io/en/stable/user_install.html\n",
      "  from .autonotebook import tqdm as notebook_tqdm\n"
     ]
    }
   ],
   "source": [
    "from train import load_and_prep_data,cv_train\n",
    "from util import *"
   ]
  },
  {
   "cell_type": "code",
   "execution_count": 3,
   "metadata": {},
   "outputs": [],
   "source": [
    "conf = load_config()"
   ]
  },
  {
   "cell_type": "code",
   "execution_count": 4,
   "metadata": {},
   "outputs": [
    {
     "name": "stderr",
     "output_type": "stream",
     "text": [
      "Loading data files: 100%|██████████| 2/2 [00:06<00:00,  3.36s/it]\n",
      "2025-03-03 13:36:28,133 - util - WARNING - Dataset contains missing values\n",
      "2025-03-03 13:36:28,140 - util - INFO - Data loaded and prepared successfully: 38 rows\n"
     ]
    },
    {
     "data": {
      "text/html": [
       "<div>\n",
       "<style scoped>\n",
       "    .dataframe tbody tr th:only-of-type {\n",
       "        vertical-align: middle;\n",
       "    }\n",
       "\n",
       "    .dataframe tbody tr th {\n",
       "        vertical-align: top;\n",
       "    }\n",
       "\n",
       "    .dataframe thead th {\n",
       "        text-align: right;\n",
       "    }\n",
       "</style>\n",
       "<table border=\"1\" class=\"dataframe\">\n",
       "  <thead>\n",
       "    <tr style=\"text-align: right;\">\n",
       "      <th></th>\n",
       "      <th>ds</th>\n",
       "      <th>y</th>\n",
       "    </tr>\n",
       "  </thead>\n",
       "  <tbody>\n",
       "    <tr>\n",
       "      <th>33</th>\n",
       "      <td>2024-10-31</td>\n",
       "      <td>28</td>\n",
       "    </tr>\n",
       "    <tr>\n",
       "      <th>34</th>\n",
       "      <td>2024-11-30</td>\n",
       "      <td>30</td>\n",
       "    </tr>\n",
       "    <tr>\n",
       "      <th>35</th>\n",
       "      <td>2024-12-31</td>\n",
       "      <td>15</td>\n",
       "    </tr>\n",
       "    <tr>\n",
       "      <th>36</th>\n",
       "      <td>2025-01-31</td>\n",
       "      <td>28</td>\n",
       "    </tr>\n",
       "    <tr>\n",
       "      <th>37</th>\n",
       "      <td>2025-02-28</td>\n",
       "      <td>39</td>\n",
       "    </tr>\n",
       "  </tbody>\n",
       "</table>\n",
       "</div>"
      ],
      "text/plain": [
       "           ds   y\n",
       "33 2024-10-31  28\n",
       "34 2024-11-30  30\n",
       "35 2024-12-31  15\n",
       "36 2025-01-31  28\n",
       "37 2025-02-28  39"
      ]
     },
     "execution_count": 4,
     "metadata": {},
     "output_type": "execute_result"
    }
   ],
   "source": [
    "df = load_and_prep_data(config=conf)\n",
    "df.tail()"
   ]
  },
  {
   "cell_type": "code",
   "execution_count": 5,
   "metadata": {},
   "outputs": [
    {
     "name": "stderr",
     "output_type": "stream",
     "text": [
      "2025-03-03 13:36:29,940 - train - INFO - Starting hyperparameter tuning...\n",
      "Evaluating parameters: 100%|██████████| 40/40 [01:29<00:00,  2.25s/it]\n",
      "2025-03-03 13:43:20,587 - train - INFO - Best parameters found: {'changepoint_prior_scale': 0.05, 'seasonality_prior_scale': 1, 'seasonality_mode': 'multiplicative'}\n",
      "2025-03-03 13:43:20,805 - cmdstanpy - DEBUG - cmd: where.exe tbb.dll\n",
      "cwd: None\n",
      "2025-03-03 13:43:20,887 - cmdstanpy - DEBUG - Adding TBB (c:\\Users\\etaati\\Documents\\projects\\h2s_demand_forecast\\.venv\\Lib\\site-packages\\prophet\\stan_model\\cmdstan-2.33.1\\stan\\lib\\stan_math\\lib\\tbb) to PATH\n",
      "2025-03-03 13:43:20,888 - prophet - INFO - Disabling weekly seasonality. Run prophet with weekly_seasonality=True to override this.\n",
      "2025-03-03 13:43:20,888 - prophet - INFO - Disabling daily seasonality. Run prophet with daily_seasonality=True to override this.\n",
      "2025-03-03 13:43:20,911 - prophet - INFO - n_changepoints greater than number of observations. Using 24.\n",
      "2025-03-03 13:43:20,913 - cmdstanpy - DEBUG - input tempfile: C:\\Users\\etaati\\AppData\\Local\\Temp\\tmp1f4hl024\\ncaq5svs.json\n",
      "2025-03-03 13:43:20,919 - cmdstanpy - DEBUG - input tempfile: C:\\Users\\etaati\\AppData\\Local\\Temp\\tmp1f4hl024\\iertkdc3.json\n",
      "2025-03-03 13:43:20,924 - cmdstanpy - DEBUG - idx 0\n",
      "2025-03-03 13:43:20,925 - cmdstanpy - DEBUG - running CmdStan, num_threads: None\n",
      "2025-03-03 13:43:20,926 - cmdstanpy - DEBUG - CmdStan args: ['C:\\\\Users\\\\etaati\\\\Documents\\\\projects\\\\h2s_demand_forecast\\\\.venv\\\\Lib\\\\site-packages\\\\prophet\\\\stan_model\\\\prophet_model.bin', 'random', 'seed=13912', 'data', 'file=C:\\\\Users\\\\etaati\\\\AppData\\\\Local\\\\Temp\\\\tmp1f4hl024\\\\ncaq5svs.json', 'init=C:\\\\Users\\\\etaati\\\\AppData\\\\Local\\\\Temp\\\\tmp1f4hl024\\\\iertkdc3.json', 'output', 'file=C:\\\\Users\\\\etaati\\\\AppData\\\\Local\\\\Temp\\\\tmp1f4hl024\\\\prophet_models5t2u0nk\\\\prophet_model-20250303134320.csv', 'method=optimize', 'algorithm=newton', 'iter=10000']\n",
      "13:43:20 - cmdstanpy - INFO - Chain [1] start processing\n",
      "2025-03-03 13:43:20,926 - cmdstanpy - INFO - Chain [1] start processing\n",
      "13:43:21 - cmdstanpy - INFO - Chain [1] done processing\n",
      "2025-03-03 13:43:21,158 - cmdstanpy - INFO - Chain [1] done processing\n",
      "c:\\Users\\etaati\\Documents\\projects\\h2s_demand_forecast\\.venv\\Lib\\site-packages\\prophet\\forecaster.py:1854: FutureWarning: 'M' is deprecated and will be removed in a future version, please use 'ME' instead.\n",
      "  dates = pd.date_range(\n",
      "2025-03-03 13:43:21,255 - train - INFO - Final model metrics: {'mape': np.float64(0.21), 'rmse': np.float64(10.91)}\n",
      "2025-03-03 13:43:23,155 - train - INFO - Visualization saved to models\\post16\\post16_20250303_1343_notnorm.html\n",
      "2025-03-03 13:43:23,155 - train - INFO - Training completed successfully\n"
     ]
    }
   ],
   "source": [
    "cv_train(df,conf)"
   ]
  },
  {
   "cell_type": "code",
   "execution_count": null,
   "metadata": {},
   "outputs": [],
   "source": []
  }
 ],
 "metadata": {
  "kernelspec": {
   "display_name": ".venv",
   "language": "python",
   "name": "python3"
  },
  "language_info": {
   "codemirror_mode": {
    "name": "ipython",
    "version": 3
   },
   "file_extension": ".py",
   "mimetype": "text/x-python",
   "name": "python",
   "nbconvert_exporter": "python",
   "pygments_lexer": "ipython3",
   "version": "3.12.7"
  }
 },
 "nbformat": 4,
 "nbformat_minor": 2
}
