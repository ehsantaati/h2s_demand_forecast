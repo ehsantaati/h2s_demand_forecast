{
 "cells": [
  {
   "cell_type": "code",
   "execution_count": 1,
   "metadata": {},
   "outputs": [
    {
     "name": "stderr",
     "output_type": "stream",
     "text": [
      "c:\\Users\\etaati\\Documents\\projects\\h2s_demand_forecast\\.venv\\Lib\\site-packages\\tqdm\\auto.py:21: TqdmWarning: IProgress not found. Please update jupyter and ipywidgets. See https://ipywidgets.readthedocs.io/en/stable/user_install.html\n",
      "  from .autonotebook import tqdm as notebook_tqdm\n"
     ]
    }
   ],
   "source": [
    "from train import load_and_prep_data,cv_train\n",
    "from util import *"
   ]
  },
  {
   "cell_type": "code",
   "execution_count": 3,
   "metadata": {},
   "outputs": [
    {
     "data": {
      "text/plain": [
       "{'model_id': 'appeals',\n",
       " 'test_size': 6,\n",
       " 'date_column': 'Created',\n",
       " 'normalize': False}"
      ]
     },
     "execution_count": 3,
     "metadata": {},
     "output_type": "execute_result"
    }
   ],
   "source": [
    "conf = load_config()\n",
    "conf"
   ]
  },
  {
   "cell_type": "code",
   "execution_count": 4,
   "metadata": {},
   "outputs": [
    {
     "name": "stderr",
     "output_type": "stream",
     "text": [
      "Loading data files: 100%|██████████| 2/2 [00:07<00:00,  3.56s/it]\n",
      "2025-02-28 16:41:47,799 - util - WARNING - Dataset contains missing values\n",
      "2025-02-28 16:41:47,799 - util - INFO - Data loaded and prepared successfully: 24 rows\n"
     ]
    },
    {
     "data": {
      "text/html": [
       "<div>\n",
       "<style scoped>\n",
       "    .dataframe tbody tr th:only-of-type {\n",
       "        vertical-align: middle;\n",
       "    }\n",
       "\n",
       "    .dataframe tbody tr th {\n",
       "        vertical-align: top;\n",
       "    }\n",
       "\n",
       "    .dataframe thead th {\n",
       "        text-align: right;\n",
       "    }\n",
       "</style>\n",
       "<table border=\"1\" class=\"dataframe\">\n",
       "  <thead>\n",
       "    <tr style=\"text-align: right;\">\n",
       "      <th></th>\n",
       "      <th>ds</th>\n",
       "      <th>y</th>\n",
       "    </tr>\n",
       "  </thead>\n",
       "  <tbody>\n",
       "    <tr>\n",
       "      <th>19</th>\n",
       "      <td>2024-10-31</td>\n",
       "      <td>66</td>\n",
       "    </tr>\n",
       "    <tr>\n",
       "      <th>20</th>\n",
       "      <td>2024-11-30</td>\n",
       "      <td>79</td>\n",
       "    </tr>\n",
       "    <tr>\n",
       "      <th>21</th>\n",
       "      <td>2024-12-31</td>\n",
       "      <td>37</td>\n",
       "    </tr>\n",
       "    <tr>\n",
       "      <th>22</th>\n",
       "      <td>2025-01-31</td>\n",
       "      <td>63</td>\n",
       "    </tr>\n",
       "    <tr>\n",
       "      <th>23</th>\n",
       "      <td>2025-02-28</td>\n",
       "      <td>50</td>\n",
       "    </tr>\n",
       "  </tbody>\n",
       "</table>\n",
       "</div>"
      ],
      "text/plain": [
       "           ds   y\n",
       "19 2024-10-31  66\n",
       "20 2024-11-30  79\n",
       "21 2024-12-31  37\n",
       "22 2025-01-31  63\n",
       "23 2025-02-28  50"
      ]
     },
     "execution_count": 4,
     "metadata": {},
     "output_type": "execute_result"
    }
   ],
   "source": [
    "df = load_and_prep_data(config=conf)\n",
    "df.tail()"
   ]
  },
  {
   "cell_type": "code",
   "execution_count": 5,
   "metadata": {},
   "outputs": [
    {
     "name": "stderr",
     "output_type": "stream",
     "text": [
      "2025-02-28 16:46:49,032 - train - INFO - Starting hyperparameter tuning...\n",
      "Evaluating parameters: 100%|██████████| 40/40 [00:05<00:00,  6.70it/s]\n",
      "2025-02-28 16:46:55,777 - train - INFO - Best parameters found: {'changepoint_prior_scale': 0.001, 'seasonality_prior_scale': 0.01, 'seasonality_mode': 'additive'}\n",
      "2025-02-28 16:46:55,871 - cmdstanpy - DEBUG - cmd: where.exe tbb.dll\n",
      "cwd: None\n",
      "2025-02-28 16:46:55,935 - cmdstanpy - DEBUG - Adding TBB (c:\\Users\\etaati\\Documents\\projects\\h2s_demand_forecast\\.venv\\Lib\\site-packages\\prophet\\stan_model\\cmdstan-2.33.1\\stan\\lib\\stan_math\\lib\\tbb) to PATH\n",
      "2025-02-28 16:46:55,958 - prophet - INFO - Disabling yearly seasonality. Run prophet with yearly_seasonality=True to override this.\n",
      "2025-02-28 16:46:55,958 - prophet - INFO - Disabling weekly seasonality. Run prophet with weekly_seasonality=True to override this.\n",
      "2025-02-28 16:46:55,958 - prophet - INFO - Disabling daily seasonality. Run prophet with daily_seasonality=True to override this.\n",
      "2025-02-28 16:46:55,987 - prophet - INFO - n_changepoints greater than number of observations. Using 13.\n",
      "2025-02-28 16:46:56,002 - cmdstanpy - DEBUG - input tempfile: C:\\Users\\etaati\\AppData\\Local\\Temp\\tmpwa517n4r\\wjzg7oz6.json\n",
      "2025-02-28 16:46:56,008 - cmdstanpy - DEBUG - input tempfile: C:\\Users\\etaati\\AppData\\Local\\Temp\\tmpwa517n4r\\9azpwwzh.json\n",
      "2025-02-28 16:46:56,017 - cmdstanpy - DEBUG - idx 0\n",
      "2025-02-28 16:46:56,019 - cmdstanpy - DEBUG - running CmdStan, num_threads: None\n",
      "2025-02-28 16:46:56,020 - cmdstanpy - DEBUG - CmdStan args: ['C:\\\\Users\\\\etaati\\\\Documents\\\\projects\\\\h2s_demand_forecast\\\\.venv\\\\Lib\\\\site-packages\\\\prophet\\\\stan_model\\\\prophet_model.bin', 'random', 'seed=82712', 'data', 'file=C:\\\\Users\\\\etaati\\\\AppData\\\\Local\\\\Temp\\\\tmpwa517n4r\\\\wjzg7oz6.json', 'init=C:\\\\Users\\\\etaati\\\\AppData\\\\Local\\\\Temp\\\\tmpwa517n4r\\\\9azpwwzh.json', 'output', 'file=C:\\\\Users\\\\etaati\\\\AppData\\\\Local\\\\Temp\\\\tmpwa517n4r\\\\prophet_model28r62h8y\\\\prophet_model-20250228164656.csv', 'method=optimize', 'algorithm=newton', 'iter=10000']\n",
      "16:46:56 - cmdstanpy - INFO - Chain [1] start processing\n",
      "2025-02-28 16:46:56,020 - cmdstanpy - INFO - Chain [1] start processing\n",
      "16:46:56 - cmdstanpy - INFO - Chain [1] done processing\n",
      "2025-02-28 16:46:56,087 - cmdstanpy - INFO - Chain [1] done processing\n",
      "c:\\Users\\etaati\\Documents\\projects\\h2s_demand_forecast\\.venv\\Lib\\site-packages\\prophet\\forecaster.py:1854: FutureWarning: 'M' is deprecated and will be removed in a future version, please use 'ME' instead.\n",
      "  dates = pd.date_range(\n",
      "2025-02-28 16:46:56,209 - train - INFO - Final model metrics: {'mape': np.float64(1.85), 'rmse': np.float64(108.05)}\n"
     ]
    },
    {
     "ename": "KeyboardInterrupt",
     "evalue": "",
     "output_type": "error",
     "traceback": [
      "\u001b[31m---------------------------------------------------------------------------\u001b[39m",
      "\u001b[31mKeyboardInterrupt\u001b[39m                         Traceback (most recent call last)",
      "\u001b[36mCell\u001b[39m\u001b[36m \u001b[39m\u001b[32mIn[5]\u001b[39m\u001b[32m, line 1\u001b[39m\n\u001b[32m----> \u001b[39m\u001b[32m1\u001b[39m \u001b[43mcv_train\u001b[49m\u001b[43m(\u001b[49m\u001b[43mdf\u001b[49m\u001b[43m,\u001b[49m\u001b[43mconf\u001b[49m\u001b[43m)\u001b[49m\n",
      "\u001b[36mFile \u001b[39m\u001b[32mc:\\Users\\etaati\\Documents\\projects\\h2s_demand_forecast\\train.py:249\u001b[39m, in \u001b[36mcv_train\u001b[39m\u001b[34m(df, config)\u001b[39m\n\u001b[32m    247\u001b[39m test_df.columns = [\u001b[33m\"\u001b[39m\u001b[33mds\u001b[39m\u001b[33m\"\u001b[39m, \u001b[33m\"\u001b[39m\u001b[33my_test\u001b[39m\u001b[33m\"\u001b[39m]\n\u001b[32m    248\u001b[39m preds = forecast[forecast[\u001b[33m\"\u001b[39m\u001b[33mds\u001b[39m\u001b[33m\"\u001b[39m] >= test_df[\u001b[33m\"\u001b[39m\u001b[33mds\u001b[39m\u001b[33m\"\u001b[39m].iloc[\u001b[32m0\u001b[39m]]\n\u001b[32m--> \u001b[39m\u001b[32m249\u001b[39m vis_df = pd.concat([train_df, test_df, preds], ignore_index=\u001b[38;5;28;01mTrue\u001b[39;00m)\n\u001b[32m    250\u001b[39m visualise(vis_df, title=model_id, path_to_save=\u001b[38;5;28mstr\u001b[39m(model_dir / model_name))\n\u001b[32m    252\u001b[39m logger.info(\u001b[33m\"\u001b[39m\u001b[33mTraining completed successfully\u001b[39m\u001b[33m\"\u001b[39m)\n",
      "\u001b[36mFile \u001b[39m\u001b[32mc:\\Users\\etaati\\Documents\\projects\\h2s_demand_forecast\\train.py:81\u001b[39m, in \u001b[36mvisualise\u001b[39m\u001b[34m(df, title, path_to_save)\u001b[39m\n\u001b[32m     73\u001b[39m \u001b[38;5;250m\u001b[39m\u001b[33;03m\"\"\"Create and save visualization of forecasts.\u001b[39;00m\n\u001b[32m     74\u001b[39m \u001b[33;03m\u001b[39;00m\n\u001b[32m     75\u001b[39m \u001b[33;03mArgs:\u001b[39;00m\n\u001b[32m   (...)\u001b[39m\u001b[32m     78\u001b[39m \u001b[33;03m    path_to_save: Path to save the plot\u001b[39;00m\n\u001b[32m     79\u001b[39m \u001b[33;03m\"\"\"\u001b[39;00m\n\u001b[32m     80\u001b[39m \u001b[38;5;28;01mtry\u001b[39;00m:\n\u001b[32m---> \u001b[39m\u001b[32m81\u001b[39m     fig = \u001b[43mpx\u001b[49m\u001b[43m.\u001b[49m\u001b[43mline\u001b[49m\u001b[43m(\u001b[49m\n\u001b[32m     82\u001b[39m \u001b[43m        \u001b[49m\u001b[43mdf\u001b[49m\u001b[43m,\u001b[49m\n\u001b[32m     83\u001b[39m \u001b[43m        \u001b[49m\u001b[43mx\u001b[49m\u001b[43m=\u001b[49m\u001b[33;43m\"\u001b[39;49m\u001b[33;43mds\u001b[39;49m\u001b[33;43m\"\u001b[39;49m\u001b[43m,\u001b[49m\n\u001b[32m     84\u001b[39m \u001b[43m        \u001b[49m\u001b[43my\u001b[49m\u001b[43m=\u001b[49m\u001b[43m[\u001b[49m\u001b[33;43m\"\u001b[39;49m\u001b[33;43my_train\u001b[39;49m\u001b[33;43m\"\u001b[39;49m\u001b[43m,\u001b[49m\u001b[43m \u001b[49m\u001b[33;43m\"\u001b[39;49m\u001b[33;43my_test\u001b[39;49m\u001b[33;43m\"\u001b[39;49m\u001b[43m]\u001b[49m\u001b[43m,\u001b[49m\n\u001b[32m     85\u001b[39m \u001b[43m        \u001b[49m\u001b[43mcolor_discrete_sequence\u001b[49m\u001b[43m=\u001b[49m\u001b[43m[\u001b[49m\u001b[33;43m\"\u001b[39;49m\u001b[33;43mgreen\u001b[39;49m\u001b[33;43m\"\u001b[39;49m\u001b[43m,\u001b[49m\u001b[43m \u001b[49m\u001b[33;43m\"\u001b[39;49m\u001b[33;43morange\u001b[39;49m\u001b[33;43m\"\u001b[39;49m\u001b[43m]\u001b[49m\u001b[43m)\u001b[49m\n\u001b[32m     87\u001b[39m     df = df[df[\u001b[33m\"\u001b[39m\u001b[33myhat\u001b[39m\u001b[33m\"\u001b[39m] > \u001b[32m0\u001b[39m]\n\u001b[32m     88\u001b[39m     fig.add_scatter(\n\u001b[32m     89\u001b[39m         x=df[\u001b[33m'\u001b[39m\u001b[33mds\u001b[39m\u001b[33m'\u001b[39m],\n\u001b[32m     90\u001b[39m         y=df[\u001b[33m'\u001b[39m\u001b[33myhat\u001b[39m\u001b[33m'\u001b[39m],\n\u001b[32m     91\u001b[39m         mode=\u001b[33m'\u001b[39m\u001b[33mlines\u001b[39m\u001b[33m'\u001b[39m,\n\u001b[32m     92\u001b[39m         line=\u001b[38;5;28mdict\u001b[39m(color=\u001b[33m'\u001b[39m\u001b[33mblue\u001b[39m\u001b[33m'\u001b[39m),\n\u001b[32m     93\u001b[39m         name=\u001b[33m'\u001b[39m\u001b[33my_forecast\u001b[39m\u001b[33m'\u001b[39m)\n",
      "\u001b[36mFile \u001b[39m\u001b[32mc:\\Users\\etaati\\Documents\\projects\\h2s_demand_forecast\\.venv\\Lib\\site-packages\\plotly\\express\\_chart_types.py:264\u001b[39m, in \u001b[36mline\u001b[39m\u001b[34m(data_frame, x, y, line_group, color, line_dash, symbol, hover_name, hover_data, custom_data, text, facet_row, facet_col, facet_col_wrap, facet_row_spacing, facet_col_spacing, error_x, error_x_minus, error_y, error_y_minus, animation_frame, animation_group, category_orders, labels, orientation, color_discrete_sequence, color_discrete_map, line_dash_sequence, line_dash_map, symbol_sequence, symbol_map, markers, log_x, log_y, range_x, range_y, line_shape, render_mode, title, template, width, height)\u001b[39m\n\u001b[32m    216\u001b[39m \u001b[38;5;28;01mdef\u001b[39;00m\u001b[38;5;250m \u001b[39m\u001b[34mline\u001b[39m(\n\u001b[32m    217\u001b[39m     data_frame=\u001b[38;5;28;01mNone\u001b[39;00m,\n\u001b[32m    218\u001b[39m     x=\u001b[38;5;28;01mNone\u001b[39;00m,\n\u001b[32m   (...)\u001b[39m\u001b[32m    258\u001b[39m     height=\u001b[38;5;28;01mNone\u001b[39;00m,\n\u001b[32m    259\u001b[39m ) -> go.Figure:\n\u001b[32m    260\u001b[39m \u001b[38;5;250m    \u001b[39m\u001b[33;03m\"\"\"\u001b[39;00m\n\u001b[32m    261\u001b[39m \u001b[33;03m    In a 2D line plot, each row of `data_frame` is represented as vertex of\u001b[39;00m\n\u001b[32m    262\u001b[39m \u001b[33;03m    a polyline mark in 2D space.\u001b[39;00m\n\u001b[32m    263\u001b[39m \u001b[33;03m    \"\"\"\u001b[39;00m\n\u001b[32m--> \u001b[39m\u001b[32m264\u001b[39m     \u001b[38;5;28;01mreturn\u001b[39;00m \u001b[43mmake_figure\u001b[49m\u001b[43m(\u001b[49m\u001b[43margs\u001b[49m\u001b[43m=\u001b[49m\u001b[38;5;28;43mlocals\u001b[39;49m\u001b[43m(\u001b[49m\u001b[43m)\u001b[49m\u001b[43m,\u001b[49m\u001b[43m \u001b[49m\u001b[43mconstructor\u001b[49m\u001b[43m=\u001b[49m\u001b[43mgo\u001b[49m\u001b[43m.\u001b[49m\u001b[43mScatter\u001b[49m\u001b[43m)\u001b[49m\n",
      "\u001b[36mFile \u001b[39m\u001b[32mc:\\Users\\etaati\\Documents\\projects\\h2s_demand_forecast\\.venv\\Lib\\site-packages\\plotly\\express\\_core.py:2383\u001b[39m, in \u001b[36mmake_figure\u001b[39m\u001b[34m(args, constructor, trace_patch, layout_patch)\u001b[39m\n\u001b[32m   2381\u001b[39m fig.update_layout(layout_patch)\n\u001b[32m   2382\u001b[39m \u001b[38;5;28;01mif\u001b[39;00m \u001b[33m\"\u001b[39m\u001b[33mtemplate\u001b[39m\u001b[33m\"\u001b[39m \u001b[38;5;129;01min\u001b[39;00m args \u001b[38;5;129;01mand\u001b[39;00m args[\u001b[33m\"\u001b[39m\u001b[33mtemplate\u001b[39m\u001b[33m\"\u001b[39m] \u001b[38;5;129;01mis\u001b[39;00m \u001b[38;5;129;01mnot\u001b[39;00m \u001b[38;5;28;01mNone\u001b[39;00m:\n\u001b[32m-> \u001b[39m\u001b[32m2383\u001b[39m     \u001b[43mfig\u001b[49m\u001b[43m.\u001b[49m\u001b[43mupdate_layout\u001b[49m\u001b[43m(\u001b[49m\u001b[43mtemplate\u001b[49m\u001b[43m=\u001b[49m\u001b[43margs\u001b[49m\u001b[43m[\u001b[49m\u001b[33;43m\"\u001b[39;49m\u001b[33;43mtemplate\u001b[39;49m\u001b[33;43m\"\u001b[39;49m\u001b[43m]\u001b[49m\u001b[43m,\u001b[49m\u001b[43m \u001b[49m\u001b[43moverwrite\u001b[49m\u001b[43m=\u001b[49m\u001b[38;5;28;43;01mTrue\u001b[39;49;00m\u001b[43m)\u001b[49m\n\u001b[32m   2384\u001b[39m \u001b[38;5;28;01mfor\u001b[39;00m f \u001b[38;5;129;01min\u001b[39;00m frame_list:\n\u001b[32m   2385\u001b[39m     f[\u001b[33m\"\u001b[39m\u001b[33mname\u001b[39m\u001b[33m\"\u001b[39m] = \u001b[38;5;28mstr\u001b[39m(f[\u001b[33m\"\u001b[39m\u001b[33mname\u001b[39m\u001b[33m\"\u001b[39m])\n",
      "\u001b[36mFile \u001b[39m\u001b[32mc:\\Users\\etaati\\Documents\\projects\\h2s_demand_forecast\\.venv\\Lib\\site-packages\\plotly\\graph_objs\\_figure.py:792\u001b[39m, in \u001b[36mFigure.update_layout\u001b[39m\u001b[34m(self, dict1, overwrite, **kwargs)\u001b[39m\n\u001b[32m    766\u001b[39m \u001b[38;5;28;01mdef\u001b[39;00m\u001b[38;5;250m \u001b[39m\u001b[34mupdate_layout\u001b[39m(\u001b[38;5;28mself\u001b[39m, dict1=\u001b[38;5;28;01mNone\u001b[39;00m, overwrite=\u001b[38;5;28;01mFalse\u001b[39;00m, **kwargs) -> \u001b[33m\"\u001b[39m\u001b[33mFigure\u001b[39m\u001b[33m\"\u001b[39m:\n\u001b[32m    767\u001b[39m \u001b[38;5;250m    \u001b[39m\u001b[33;03m\"\"\"\u001b[39;00m\n\u001b[32m    768\u001b[39m \n\u001b[32m    769\u001b[39m \u001b[33;03m    Update the properties of the figure's layout with a dict and/or with\u001b[39;00m\n\u001b[32m   (...)\u001b[39m\u001b[32m    790\u001b[39m \n\u001b[32m    791\u001b[39m \u001b[33;03m    \"\"\"\u001b[39;00m\n\u001b[32m--> \u001b[39m\u001b[32m792\u001b[39m     \u001b[38;5;28;01mreturn\u001b[39;00m \u001b[38;5;28;43msuper\u001b[39;49m\u001b[43m(\u001b[49m\u001b[43mFigure\u001b[49m\u001b[43m,\u001b[49m\u001b[43m \u001b[49m\u001b[38;5;28;43mself\u001b[39;49m\u001b[43m)\u001b[49m\u001b[43m.\u001b[49m\u001b[43mupdate_layout\u001b[49m\u001b[43m(\u001b[49m\u001b[43mdict1\u001b[49m\u001b[43m,\u001b[49m\u001b[43m \u001b[49m\u001b[43moverwrite\u001b[49m\u001b[43m,\u001b[49m\u001b[43m \u001b[49m\u001b[43m*\u001b[49m\u001b[43m*\u001b[49m\u001b[43mkwargs\u001b[49m\u001b[43m)\u001b[49m\n",
      "\u001b[36mFile \u001b[39m\u001b[32mc:\\Users\\etaati\\Documents\\projects\\h2s_demand_forecast\\.venv\\Lib\\site-packages\\plotly\\basedatatypes.py:1391\u001b[39m, in \u001b[36mBaseFigure.update_layout\u001b[39m\u001b[34m(self, dict1, overwrite, **kwargs)\u001b[39m\n\u001b[32m   1367\u001b[39m \u001b[38;5;28;01mdef\u001b[39;00m\u001b[38;5;250m \u001b[39m\u001b[34mupdate_layout\u001b[39m(\u001b[38;5;28mself\u001b[39m, dict1=\u001b[38;5;28;01mNone\u001b[39;00m, overwrite=\u001b[38;5;28;01mFalse\u001b[39;00m, **kwargs):\n\u001b[32m   1368\u001b[39m \u001b[38;5;250m    \u001b[39m\u001b[33;03m\"\"\"\u001b[39;00m\n\u001b[32m   1369\u001b[39m \u001b[33;03m    Update the properties of the figure's layout with a dict and/or with\u001b[39;00m\n\u001b[32m   1370\u001b[39m \u001b[33;03m    keyword arguments.\u001b[39;00m\n\u001b[32m   (...)\u001b[39m\u001b[32m   1389\u001b[39m \u001b[33;03m        The Figure object that the update_layout method was called on\u001b[39;00m\n\u001b[32m   1390\u001b[39m \u001b[33;03m    \"\"\"\u001b[39;00m\n\u001b[32m-> \u001b[39m\u001b[32m1391\u001b[39m     \u001b[38;5;28;43mself\u001b[39;49m\u001b[43m.\u001b[49m\u001b[43mlayout\u001b[49m\u001b[43m.\u001b[49m\u001b[43mupdate\u001b[49m\u001b[43m(\u001b[49m\u001b[43mdict1\u001b[49m\u001b[43m,\u001b[49m\u001b[43m \u001b[49m\u001b[43moverwrite\u001b[49m\u001b[43m=\u001b[49m\u001b[43moverwrite\u001b[49m\u001b[43m,\u001b[49m\u001b[43m \u001b[49m\u001b[43m*\u001b[49m\u001b[43m*\u001b[49m\u001b[43mkwargs\u001b[49m\u001b[43m)\u001b[49m\n\u001b[32m   1392\u001b[39m     \u001b[38;5;28;01mreturn\u001b[39;00m \u001b[38;5;28mself\u001b[39m\n",
      "\u001b[36mFile \u001b[39m\u001b[32mc:\\Users\\etaati\\Documents\\projects\\h2s_demand_forecast\\.venv\\Lib\\site-packages\\plotly\\basedatatypes.py:5131\u001b[39m, in \u001b[36mBasePlotlyType.update\u001b[39m\u001b[34m(self, dict1, overwrite, **kwargs)\u001b[39m\n\u001b[32m   5129\u001b[39m     \u001b[38;5;28;01mwith\u001b[39;00m \u001b[38;5;28mself\u001b[39m.figure.batch_update():\n\u001b[32m   5130\u001b[39m         BaseFigure._perform_update(\u001b[38;5;28mself\u001b[39m, dict1, overwrite=overwrite)\n\u001b[32m-> \u001b[39m\u001b[32m5131\u001b[39m         \u001b[43mBaseFigure\u001b[49m\u001b[43m.\u001b[49m\u001b[43m_perform_update\u001b[49m\u001b[43m(\u001b[49m\u001b[38;5;28;43mself\u001b[39;49m\u001b[43m,\u001b[49m\u001b[43m \u001b[49m\u001b[43mkwargs\u001b[49m\u001b[43m,\u001b[49m\u001b[43m \u001b[49m\u001b[43moverwrite\u001b[49m\u001b[43m=\u001b[49m\u001b[43moverwrite\u001b[49m\u001b[43m)\u001b[49m\n\u001b[32m   5132\u001b[39m \u001b[38;5;28;01melse\u001b[39;00m:\n\u001b[32m   5133\u001b[39m     BaseFigure._perform_update(\u001b[38;5;28mself\u001b[39m, dict1, overwrite=overwrite)\n",
      "\u001b[36mFile \u001b[39m\u001b[32mc:\\Users\\etaati\\Documents\\projects\\h2s_demand_forecast\\.venv\\Lib\\site-packages\\plotly\\basedatatypes.py:3904\u001b[39m, in \u001b[36mBaseFigure._perform_update\u001b[39m\u001b[34m(plotly_obj, update_obj, overwrite)\u001b[39m\n\u001b[32m   3900\u001b[39m val = update_obj[key]\n\u001b[32m   3902\u001b[39m \u001b[38;5;28;01mif\u001b[39;00m overwrite:\n\u001b[32m   3903\u001b[39m     \u001b[38;5;66;03m# Don't recurse and assign property as-is\u001b[39;00m\n\u001b[32m-> \u001b[39m\u001b[32m3904\u001b[39m     \u001b[43mplotly_obj\u001b[49m\u001b[43m[\u001b[49m\u001b[43mkey\u001b[49m\u001b[43m]\u001b[49m = val\n\u001b[32m   3905\u001b[39m     \u001b[38;5;28;01mcontinue\u001b[39;00m\n\u001b[32m   3907\u001b[39m validator = plotly_obj._get_prop_validator(key)\n",
      "\u001b[36mFile \u001b[39m\u001b[32mc:\\Users\\etaati\\Documents\\projects\\h2s_demand_forecast\\.venv\\Lib\\site-packages\\plotly\\basedatatypes.py:5906\u001b[39m, in \u001b[36mBaseLayoutType.__setitem__\u001b[39m\u001b[34m(self, prop, value)\u001b[39m\n\u001b[32m   5903\u001b[39m match = \u001b[38;5;28mself\u001b[39m._subplot_re_match(prop)\n\u001b[32m   5904\u001b[39m \u001b[38;5;28;01mif\u001b[39;00m match \u001b[38;5;129;01mis\u001b[39;00m \u001b[38;5;28;01mNone\u001b[39;00m:\n\u001b[32m   5905\u001b[39m     \u001b[38;5;66;03m# Set as ordinary property\u001b[39;00m\n\u001b[32m-> \u001b[39m\u001b[32m5906\u001b[39m     \u001b[38;5;28;43msuper\u001b[39;49m\u001b[43m(\u001b[49m\u001b[43mBaseLayoutHierarchyType\u001b[49m\u001b[43m,\u001b[49m\u001b[43m \u001b[49m\u001b[38;5;28;43mself\u001b[39;49m\u001b[43m)\u001b[49m\u001b[43m.\u001b[49m\u001b[34;43m__setitem__\u001b[39;49m\u001b[43m(\u001b[49m\u001b[43mprop\u001b[49m\u001b[43m,\u001b[49m\u001b[43m \u001b[49m\u001b[43mvalue\u001b[49m\u001b[43m)\u001b[49m\n\u001b[32m   5907\u001b[39m \u001b[38;5;28;01melse\u001b[39;00m:\n\u001b[32m   5908\u001b[39m     \u001b[38;5;66;03m# Set as subplotid property\u001b[39;00m\n\u001b[32m   5909\u001b[39m     \u001b[38;5;28mself\u001b[39m._set_subplotid_prop(prop, value)\n",
      "\u001b[36mFile \u001b[39m\u001b[32mc:\\Users\\etaati\\Documents\\projects\\h2s_demand_forecast\\.venv\\Lib\\site-packages\\plotly\\basedatatypes.py:4860\u001b[39m, in \u001b[36mBasePlotlyType.__setitem__\u001b[39m\u001b[34m(self, prop, value)\u001b[39m\n\u001b[32m   4858\u001b[39m \u001b[38;5;66;03m# ### Handle compound property ###\u001b[39;00m\n\u001b[32m   4859\u001b[39m \u001b[38;5;28;01mif\u001b[39;00m \u001b[38;5;28misinstance\u001b[39m(validator, CompoundValidator):\n\u001b[32m-> \u001b[39m\u001b[32m4860\u001b[39m     \u001b[38;5;28;43mself\u001b[39;49m\u001b[43m.\u001b[49m\u001b[43m_set_compound_prop\u001b[49m\u001b[43m(\u001b[49m\u001b[43mprop\u001b[49m\u001b[43m,\u001b[49m\u001b[43m \u001b[49m\u001b[43mvalue\u001b[49m\u001b[43m)\u001b[49m\n\u001b[32m   4862\u001b[39m \u001b[38;5;66;03m# ### Handle compound array property ###\u001b[39;00m\n\u001b[32m   4863\u001b[39m \u001b[38;5;28;01melif\u001b[39;00m \u001b[38;5;28misinstance\u001b[39m(validator, (CompoundArrayValidator, BaseDataValidator)):\n",
      "\u001b[36mFile \u001b[39m\u001b[32mc:\\Users\\etaati\\Documents\\projects\\h2s_demand_forecast\\.venv\\Lib\\site-packages\\plotly\\basedatatypes.py:5271\u001b[39m, in \u001b[36mBasePlotlyType._set_compound_prop\u001b[39m\u001b[34m(self, prop, val)\u001b[39m\n\u001b[32m   5268\u001b[39m \u001b[38;5;66;03m# Import value\u001b[39;00m\n\u001b[32m   5269\u001b[39m \u001b[38;5;66;03m# ------------\u001b[39;00m\n\u001b[32m   5270\u001b[39m validator = \u001b[38;5;28mself\u001b[39m._get_validator(prop)\n\u001b[32m-> \u001b[39m\u001b[32m5271\u001b[39m val = \u001b[43mvalidator\u001b[49m\u001b[43m.\u001b[49m\u001b[43mvalidate_coerce\u001b[49m\u001b[43m(\u001b[49m\u001b[43mval\u001b[49m\u001b[43m,\u001b[49m\u001b[43m \u001b[49m\u001b[43mskip_invalid\u001b[49m\u001b[43m=\u001b[49m\u001b[38;5;28;43mself\u001b[39;49m\u001b[43m.\u001b[49m\u001b[43m_skip_invalid\u001b[49m\u001b[43m)\u001b[49m\n\u001b[32m   5273\u001b[39m \u001b[38;5;66;03m# Save deep copies of current and new states\u001b[39;00m\n\u001b[32m   5274\u001b[39m \u001b[38;5;66;03m# ------------------------------------------\u001b[39;00m\n\u001b[32m   5275\u001b[39m curr_val = \u001b[38;5;28mself\u001b[39m._compound_props.get(prop, \u001b[38;5;28;01mNone\u001b[39;00m)\n",
      "\u001b[36mFile \u001b[39m\u001b[32mc:\\Users\\etaati\\Documents\\projects\\h2s_demand_forecast\\.venv\\Lib\\site-packages\\_plotly_utils\\basevalidators.py:2805\u001b[39m, in \u001b[36mBaseTemplateValidator.validate_coerce\u001b[39m\u001b[34m(self, v, skip_invalid)\u001b[39m\n\u001b[32m   2799\u001b[39m \u001b[38;5;28;01mif\u001b[39;00m v == {} \u001b[38;5;129;01mor\u001b[39;00m \u001b[38;5;28misinstance\u001b[39m(v, \u001b[38;5;28mself\u001b[39m.data_class) \u001b[38;5;129;01mand\u001b[39;00m v.to_plotly_json() == {}:\n\u001b[32m   2800\u001b[39m     \u001b[38;5;66;03m# Replace empty template with {'data': {'scatter': [{}]}} so that we can\u001b[39;00m\n\u001b[32m   2801\u001b[39m     \u001b[38;5;66;03m# tell the difference between an un-initialized template and a template\u001b[39;00m\n\u001b[32m   2802\u001b[39m     \u001b[38;5;66;03m# explicitly set to empty.\u001b[39;00m\n\u001b[32m   2803\u001b[39m     \u001b[38;5;28;01mreturn\u001b[39;00m \u001b[38;5;28mself\u001b[39m.data_class(data_scatter=[{}])\n\u001b[32m-> \u001b[39m\u001b[32m2805\u001b[39m \u001b[38;5;28;01mreturn\u001b[39;00m \u001b[38;5;28;43msuper\u001b[39;49m\u001b[43m(\u001b[49m\u001b[43mBaseTemplateValidator\u001b[49m\u001b[43m,\u001b[49m\u001b[43m \u001b[49m\u001b[38;5;28;43mself\u001b[39;49m\u001b[43m)\u001b[49m\u001b[43m.\u001b[49m\u001b[43mvalidate_coerce\u001b[49m\u001b[43m(\u001b[49m\n\u001b[32m   2806\u001b[39m \u001b[43m    \u001b[49m\u001b[43mv\u001b[49m\u001b[43m,\u001b[49m\u001b[43m \u001b[49m\u001b[43mskip_invalid\u001b[49m\u001b[43m=\u001b[49m\u001b[43mskip_invalid\u001b[49m\n\u001b[32m   2807\u001b[39m \u001b[43m\u001b[49m\u001b[43m)\u001b[49m\n",
      "\u001b[36mFile \u001b[39m\u001b[32mc:\\Users\\etaati\\Documents\\projects\\h2s_demand_forecast\\.venv\\Lib\\site-packages\\_plotly_utils\\basevalidators.py:2516\u001b[39m, in \u001b[36mCompoundValidator.validate_coerce\u001b[39m\u001b[34m(self, v, skip_invalid, _validate)\u001b[39m\n\u001b[32m   2512\u001b[39m     v = \u001b[38;5;28mself\u001b[39m.data_class(v, skip_invalid=skip_invalid, _validate=_validate)\n\u001b[32m   2514\u001b[39m \u001b[38;5;28;01melif\u001b[39;00m \u001b[38;5;28misinstance\u001b[39m(v, \u001b[38;5;28mself\u001b[39m.data_class):\n\u001b[32m   2515\u001b[39m     \u001b[38;5;66;03m# Copy object\u001b[39;00m\n\u001b[32m-> \u001b[39m\u001b[32m2516\u001b[39m     v = \u001b[38;5;28;43mself\u001b[39;49m\u001b[43m.\u001b[49m\u001b[43mdata_class\u001b[49m\u001b[43m(\u001b[49m\u001b[43mv\u001b[49m\u001b[43m)\u001b[49m\n\u001b[32m   2517\u001b[39m \u001b[38;5;28;01melse\u001b[39;00m:\n\u001b[32m   2518\u001b[39m     \u001b[38;5;28;01mif\u001b[39;00m skip_invalid:\n",
      "\u001b[36mFile \u001b[39m\u001b[32mc:\\Users\\etaati\\Documents\\projects\\h2s_demand_forecast\\.venv\\Lib\\site-packages\\plotly\\graph_objs\\layout\\_template.py:335\u001b[39m, in \u001b[36mTemplate.__init__\u001b[39m\u001b[34m(self, arg, data, layout, **kwargs)\u001b[39m\n\u001b[32m    333\u001b[39m _v = data \u001b[38;5;28;01mif\u001b[39;00m data \u001b[38;5;129;01mis\u001b[39;00m \u001b[38;5;129;01mnot\u001b[39;00m \u001b[38;5;28;01mNone\u001b[39;00m \u001b[38;5;28;01melse\u001b[39;00m _v\n\u001b[32m    334\u001b[39m \u001b[38;5;28;01mif\u001b[39;00m _v \u001b[38;5;129;01mis\u001b[39;00m \u001b[38;5;129;01mnot\u001b[39;00m \u001b[38;5;28;01mNone\u001b[39;00m:\n\u001b[32m--> \u001b[39m\u001b[32m335\u001b[39m     \u001b[38;5;28;43mself\u001b[39;49m\u001b[43m[\u001b[49m\u001b[33;43m\"\u001b[39;49m\u001b[33;43mdata\u001b[39;49m\u001b[33;43m\"\u001b[39;49m\u001b[43m]\u001b[49m = _v\n\u001b[32m    336\u001b[39m _v = arg.pop(\u001b[33m\"\u001b[39m\u001b[33mlayout\u001b[39m\u001b[33m\"\u001b[39m, \u001b[38;5;28;01mNone\u001b[39;00m)\n\u001b[32m    337\u001b[39m _v = layout \u001b[38;5;28;01mif\u001b[39;00m layout \u001b[38;5;129;01mis\u001b[39;00m \u001b[38;5;129;01mnot\u001b[39;00m \u001b[38;5;28;01mNone\u001b[39;00m \u001b[38;5;28;01melse\u001b[39;00m _v\n",
      "\u001b[36mFile \u001b[39m\u001b[32mc:\\Users\\etaati\\Documents\\projects\\h2s_demand_forecast\\.venv\\Lib\\site-packages\\plotly\\basedatatypes.py:4860\u001b[39m, in \u001b[36mBasePlotlyType.__setitem__\u001b[39m\u001b[34m(self, prop, value)\u001b[39m\n\u001b[32m   4858\u001b[39m \u001b[38;5;66;03m# ### Handle compound property ###\u001b[39;00m\n\u001b[32m   4859\u001b[39m \u001b[38;5;28;01mif\u001b[39;00m \u001b[38;5;28misinstance\u001b[39m(validator, CompoundValidator):\n\u001b[32m-> \u001b[39m\u001b[32m4860\u001b[39m     \u001b[38;5;28;43mself\u001b[39;49m\u001b[43m.\u001b[49m\u001b[43m_set_compound_prop\u001b[49m\u001b[43m(\u001b[49m\u001b[43mprop\u001b[49m\u001b[43m,\u001b[49m\u001b[43m \u001b[49m\u001b[43mvalue\u001b[49m\u001b[43m)\u001b[49m\n\u001b[32m   4862\u001b[39m \u001b[38;5;66;03m# ### Handle compound array property ###\u001b[39;00m\n\u001b[32m   4863\u001b[39m \u001b[38;5;28;01melif\u001b[39;00m \u001b[38;5;28misinstance\u001b[39m(validator, (CompoundArrayValidator, BaseDataValidator)):\n",
      "\u001b[36mFile \u001b[39m\u001b[32mc:\\Users\\etaati\\Documents\\projects\\h2s_demand_forecast\\.venv\\Lib\\site-packages\\plotly\\basedatatypes.py:5271\u001b[39m, in \u001b[36mBasePlotlyType._set_compound_prop\u001b[39m\u001b[34m(self, prop, val)\u001b[39m\n\u001b[32m   5268\u001b[39m \u001b[38;5;66;03m# Import value\u001b[39;00m\n\u001b[32m   5269\u001b[39m \u001b[38;5;66;03m# ------------\u001b[39;00m\n\u001b[32m   5270\u001b[39m validator = \u001b[38;5;28mself\u001b[39m._get_validator(prop)\n\u001b[32m-> \u001b[39m\u001b[32m5271\u001b[39m val = \u001b[43mvalidator\u001b[49m\u001b[43m.\u001b[49m\u001b[43mvalidate_coerce\u001b[49m\u001b[43m(\u001b[49m\u001b[43mval\u001b[49m\u001b[43m,\u001b[49m\u001b[43m \u001b[49m\u001b[43mskip_invalid\u001b[49m\u001b[43m=\u001b[49m\u001b[38;5;28;43mself\u001b[39;49m\u001b[43m.\u001b[49m\u001b[43m_skip_invalid\u001b[49m\u001b[43m)\u001b[49m\n\u001b[32m   5273\u001b[39m \u001b[38;5;66;03m# Save deep copies of current and new states\u001b[39;00m\n\u001b[32m   5274\u001b[39m \u001b[38;5;66;03m# ------------------------------------------\u001b[39;00m\n\u001b[32m   5275\u001b[39m curr_val = \u001b[38;5;28mself\u001b[39m._compound_props.get(prop, \u001b[38;5;28;01mNone\u001b[39;00m)\n",
      "\u001b[36mFile \u001b[39m\u001b[32mc:\\Users\\etaati\\Documents\\projects\\h2s_demand_forecast\\.venv\\Lib\\site-packages\\_plotly_utils\\basevalidators.py:2512\u001b[39m, in \u001b[36mCompoundValidator.validate_coerce\u001b[39m\u001b[34m(self, v, skip_invalid, _validate)\u001b[39m\n\u001b[32m   2509\u001b[39m     v = \u001b[38;5;28mself\u001b[39m.data_class()\n\u001b[32m   2511\u001b[39m \u001b[38;5;28;01melif\u001b[39;00m \u001b[38;5;28misinstance\u001b[39m(v, \u001b[38;5;28mdict\u001b[39m):\n\u001b[32m-> \u001b[39m\u001b[32m2512\u001b[39m     v = \u001b[38;5;28;43mself\u001b[39;49m\u001b[43m.\u001b[49m\u001b[43mdata_class\u001b[49m\u001b[43m(\u001b[49m\u001b[43mv\u001b[49m\u001b[43m,\u001b[49m\u001b[43m \u001b[49m\u001b[43mskip_invalid\u001b[49m\u001b[43m=\u001b[49m\u001b[43mskip_invalid\u001b[49m\u001b[43m,\u001b[49m\u001b[43m \u001b[49m\u001b[43m_validate\u001b[49m\u001b[43m=\u001b[49m\u001b[43m_validate\u001b[49m\u001b[43m)\u001b[49m\n\u001b[32m   2514\u001b[39m \u001b[38;5;28;01melif\u001b[39;00m \u001b[38;5;28misinstance\u001b[39m(v, \u001b[38;5;28mself\u001b[39m.data_class):\n\u001b[32m   2515\u001b[39m     \u001b[38;5;66;03m# Copy object\u001b[39;00m\n\u001b[32m   2516\u001b[39m     v = \u001b[38;5;28mself\u001b[39m.data_class(v)\n",
      "\u001b[36mFile \u001b[39m\u001b[32mc:\\Users\\etaati\\Documents\\projects\\h2s_demand_forecast\\.venv\\Lib\\site-packages\\plotly\\graph_objs\\layout\\template\\_data.py:1769\u001b[39m, in \u001b[36mData.__init__\u001b[39m\u001b[34m(self, arg, barpolar, bar, box, candlestick, carpet, choroplethmapbox, choroplethmap, choropleth, cone, contourcarpet, contour, densitymapbox, densitymap, funnelarea, funnel, heatmapgl, heatmap, histogram2dcontour, histogram2d, histogram, icicle, image, indicator, isosurface, mesh3d, ohlc, parcats, parcoords, pie, pointcloud, sankey, scatter3d, scattercarpet, scattergeo, scattergl, scattermapbox, scattermap, scatterpolargl, scatterpolar, scatter, scattersmith, scatterternary, splom, streamtube, sunburst, surface, table, treemap, violin, volume, waterfall, **kwargs)\u001b[39m\n\u001b[32m   1767\u001b[39m _v = pie \u001b[38;5;28;01mif\u001b[39;00m pie \u001b[38;5;129;01mis\u001b[39;00m \u001b[38;5;129;01mnot\u001b[39;00m \u001b[38;5;28;01mNone\u001b[39;00m \u001b[38;5;28;01melse\u001b[39;00m _v\n\u001b[32m   1768\u001b[39m \u001b[38;5;28;01mif\u001b[39;00m _v \u001b[38;5;129;01mis\u001b[39;00m \u001b[38;5;129;01mnot\u001b[39;00m \u001b[38;5;28;01mNone\u001b[39;00m:\n\u001b[32m-> \u001b[39m\u001b[32m1769\u001b[39m     \u001b[38;5;28;43mself\u001b[39;49m\u001b[43m[\u001b[49m\u001b[33;43m\"\u001b[39;49m\u001b[33;43mpie\u001b[39;49m\u001b[33;43m\"\u001b[39;49m\u001b[43m]\u001b[49m = _v\n\u001b[32m   1770\u001b[39m _v = arg.pop(\u001b[33m\"\u001b[39m\u001b[33mpointcloud\u001b[39m\u001b[33m\"\u001b[39m, \u001b[38;5;28;01mNone\u001b[39;00m)\n\u001b[32m   1771\u001b[39m _v = pointcloud \u001b[38;5;28;01mif\u001b[39;00m pointcloud \u001b[38;5;129;01mis\u001b[39;00m \u001b[38;5;129;01mnot\u001b[39;00m \u001b[38;5;28;01mNone\u001b[39;00m \u001b[38;5;28;01melse\u001b[39;00m _v\n",
      "\u001b[36mFile \u001b[39m\u001b[32mc:\\Users\\etaati\\Documents\\projects\\h2s_demand_forecast\\.venv\\Lib\\site-packages\\plotly\\basedatatypes.py:4864\u001b[39m, in \u001b[36mBasePlotlyType.__setitem__\u001b[39m\u001b[34m(self, prop, value)\u001b[39m\n\u001b[32m   4862\u001b[39m \u001b[38;5;66;03m# ### Handle compound array property ###\u001b[39;00m\n\u001b[32m   4863\u001b[39m \u001b[38;5;28;01melif\u001b[39;00m \u001b[38;5;28misinstance\u001b[39m(validator, (CompoundArrayValidator, BaseDataValidator)):\n\u001b[32m-> \u001b[39m\u001b[32m4864\u001b[39m     \u001b[38;5;28;43mself\u001b[39;49m\u001b[43m.\u001b[49m\u001b[43m_set_array_prop\u001b[49m\u001b[43m(\u001b[49m\u001b[43mprop\u001b[49m\u001b[43m,\u001b[49m\u001b[43m \u001b[49m\u001b[43mvalue\u001b[49m\u001b[43m)\u001b[49m\n\u001b[32m   4866\u001b[39m \u001b[38;5;66;03m# ### Handle simple property ###\u001b[39;00m\n\u001b[32m   4867\u001b[39m \u001b[38;5;28;01melse\u001b[39;00m:\n\u001b[32m   4868\u001b[39m     \u001b[38;5;28mself\u001b[39m._set_prop(prop, value)\n",
      "\u001b[36mFile \u001b[39m\u001b[32mc:\\Users\\etaati\\Documents\\projects\\h2s_demand_forecast\\.venv\\Lib\\site-packages\\plotly\\basedatatypes.py:5345\u001b[39m, in \u001b[36mBasePlotlyType._set_array_prop\u001b[39m\u001b[34m(self, prop, val)\u001b[39m\n\u001b[32m   5342\u001b[39m \u001b[38;5;66;03m# Import value\u001b[39;00m\n\u001b[32m   5343\u001b[39m \u001b[38;5;66;03m# ------------\u001b[39;00m\n\u001b[32m   5344\u001b[39m validator = \u001b[38;5;28mself\u001b[39m._get_validator(prop)\n\u001b[32m-> \u001b[39m\u001b[32m5345\u001b[39m val = \u001b[43mvalidator\u001b[49m\u001b[43m.\u001b[49m\u001b[43mvalidate_coerce\u001b[49m\u001b[43m(\u001b[49m\u001b[43mval\u001b[49m\u001b[43m,\u001b[49m\u001b[43m \u001b[49m\u001b[43mskip_invalid\u001b[49m\u001b[43m=\u001b[49m\u001b[38;5;28;43mself\u001b[39;49m\u001b[43m.\u001b[49m\u001b[43m_skip_invalid\u001b[49m\u001b[43m)\u001b[49m\n\u001b[32m   5347\u001b[39m \u001b[38;5;66;03m# Save deep copies of current and new states\u001b[39;00m\n\u001b[32m   5348\u001b[39m \u001b[38;5;66;03m# ------------------------------------------\u001b[39;00m\n\u001b[32m   5349\u001b[39m curr_val = \u001b[38;5;28mself\u001b[39m._compound_array_props.get(prop, \u001b[38;5;28;01mNone\u001b[39;00m)\n",
      "\u001b[36mFile \u001b[39m\u001b[32mc:\\Users\\etaati\\Documents\\projects\\h2s_demand_forecast\\.venv\\Lib\\site-packages\\_plotly_utils\\basevalidators.py:2604\u001b[39m, in \u001b[36mCompoundArrayValidator.validate_coerce\u001b[39m\u001b[34m(self, v, skip_invalid)\u001b[39m\n\u001b[32m   2602\u001b[39m     res.append(\u001b[38;5;28mself\u001b[39m.data_class(v_el))\n\u001b[32m   2603\u001b[39m \u001b[38;5;28;01melif\u001b[39;00m \u001b[38;5;28misinstance\u001b[39m(v_el, \u001b[38;5;28mdict\u001b[39m):\n\u001b[32m-> \u001b[39m\u001b[32m2604\u001b[39m     res.append(\u001b[38;5;28;43mself\u001b[39;49m\u001b[43m.\u001b[49m\u001b[43mdata_class\u001b[49m\u001b[43m(\u001b[49m\u001b[43mv_el\u001b[49m\u001b[43m,\u001b[49m\u001b[43m \u001b[49m\u001b[43mskip_invalid\u001b[49m\u001b[43m=\u001b[49m\u001b[43mskip_invalid\u001b[49m\u001b[43m)\u001b[49m)\n\u001b[32m   2605\u001b[39m \u001b[38;5;28;01melse\u001b[39;00m:\n\u001b[32m   2606\u001b[39m     \u001b[38;5;28;01mif\u001b[39;00m skip_invalid:\n",
      "\u001b[36mFile \u001b[39m\u001b[32mc:\\Users\\etaati\\Documents\\projects\\h2s_demand_forecast\\.venv\\Lib\\site-packages\\plotly\\graph_objs\\_pie.py:2406\u001b[39m, in \u001b[36mPie.__init__\u001b[39m\u001b[34m(self, arg, automargin, customdata, customdatasrc, direction, dlabel, domain, hole, hoverinfo, hoverinfosrc, hoverlabel, hovertemplate, hovertemplatesrc, hovertext, hovertextsrc, ids, idssrc, insidetextfont, insidetextorientation, label0, labels, labelssrc, legend, legendgroup, legendgrouptitle, legendrank, legendwidth, marker, meta, metasrc, name, opacity, outsidetextfont, pull, pullsrc, rotation, scalegroup, showlegend, sort, stream, text, textfont, textinfo, textposition, textpositionsrc, textsrc, texttemplate, texttemplatesrc, title, titlefont, titleposition, uid, uirevision, values, valuessrc, visible, **kwargs)\u001b[39m\n\u001b[32m   2404\u001b[39m _v = automargin \u001b[38;5;28;01mif\u001b[39;00m automargin \u001b[38;5;129;01mis\u001b[39;00m \u001b[38;5;129;01mnot\u001b[39;00m \u001b[38;5;28;01mNone\u001b[39;00m \u001b[38;5;28;01melse\u001b[39;00m _v\n\u001b[32m   2405\u001b[39m \u001b[38;5;28;01mif\u001b[39;00m _v \u001b[38;5;129;01mis\u001b[39;00m \u001b[38;5;129;01mnot\u001b[39;00m \u001b[38;5;28;01mNone\u001b[39;00m:\n\u001b[32m-> \u001b[39m\u001b[32m2406\u001b[39m     \u001b[38;5;28;43mself\u001b[39;49m\u001b[43m[\u001b[49m\u001b[33;43m\"\u001b[39;49m\u001b[33;43mautomargin\u001b[39;49m\u001b[33;43m\"\u001b[39;49m\u001b[43m]\u001b[49m = _v\n\u001b[32m   2407\u001b[39m _v = arg.pop(\u001b[33m\"\u001b[39m\u001b[33mcustomdata\u001b[39m\u001b[33m\"\u001b[39m, \u001b[38;5;28;01mNone\u001b[39;00m)\n\u001b[32m   2408\u001b[39m _v = customdata \u001b[38;5;28;01mif\u001b[39;00m customdata \u001b[38;5;129;01mis\u001b[39;00m \u001b[38;5;129;01mnot\u001b[39;00m \u001b[38;5;28;01mNone\u001b[39;00m \u001b[38;5;28;01melse\u001b[39;00m _v\n",
      "\u001b[36mFile \u001b[39m\u001b[32mc:\\Users\\etaati\\Documents\\projects\\h2s_demand_forecast\\.venv\\Lib\\site-packages\\plotly\\basedatatypes.py:4856\u001b[39m, in \u001b[36mBasePlotlyType.__setitem__\u001b[39m\u001b[34m(self, prop, value)\u001b[39m\n\u001b[32m   4853\u001b[39m     \u001b[38;5;28mself\u001b[39m._raise_on_invalid_property_error()(prop)\n\u001b[32m   4855\u001b[39m \u001b[38;5;66;03m# ### Get validator for this property ###\u001b[39;00m\n\u001b[32m-> \u001b[39m\u001b[32m4856\u001b[39m validator = \u001b[38;5;28;43mself\u001b[39;49m\u001b[43m.\u001b[49m\u001b[43m_get_validator\u001b[49m\u001b[43m(\u001b[49m\u001b[43mprop\u001b[49m\u001b[43m)\u001b[49m\n\u001b[32m   4858\u001b[39m \u001b[38;5;66;03m# ### Handle compound property ###\u001b[39;00m\n\u001b[32m   4859\u001b[39m \u001b[38;5;28;01mif\u001b[39;00m \u001b[38;5;28misinstance\u001b[39m(validator, CompoundValidator):\n",
      "\u001b[36mFile \u001b[39m\u001b[32mc:\\Users\\etaati\\Documents\\projects\\h2s_demand_forecast\\.venv\\Lib\\site-packages\\plotly\\basedatatypes.py:4338\u001b[39m, in \u001b[36mBasePlotlyType._get_validator\u001b[39m\u001b[34m(self, prop)\u001b[39m\n\u001b[32m   4335\u001b[39m \u001b[38;5;28;01mdef\u001b[39;00m\u001b[38;5;250m \u001b[39m\u001b[34m_get_validator\u001b[39m(\u001b[38;5;28mself\u001b[39m, prop):\n\u001b[32m   4336\u001b[39m     \u001b[38;5;28;01mfrom\u001b[39;00m\u001b[38;5;250m \u001b[39m\u001b[34;01m.\u001b[39;00m\u001b[34;01mvalidator_cache\u001b[39;00m\u001b[38;5;250m \u001b[39m\u001b[38;5;28;01mimport\u001b[39;00m ValidatorCache\n\u001b[32m-> \u001b[39m\u001b[32m4338\u001b[39m     \u001b[38;5;28;01mreturn\u001b[39;00m \u001b[43mValidatorCache\u001b[49m\u001b[43m.\u001b[49m\u001b[43mget_validator\u001b[49m\u001b[43m(\u001b[49m\u001b[38;5;28;43mself\u001b[39;49m\u001b[43m.\u001b[49m\u001b[43m_path_str\u001b[49m\u001b[43m,\u001b[49m\u001b[43m \u001b[49m\u001b[43mprop\u001b[49m\u001b[43m)\u001b[49m\n",
      "\u001b[36mFile \u001b[39m\u001b[32mc:\\Users\\etaati\\Documents\\projects\\h2s_demand_forecast\\.venv\\Lib\\site-packages\\plotly\\validator_cache.py:29\u001b[39m, in \u001b[36mValidatorCache.get_validator\u001b[39m\u001b[34m(parent_path, prop_name)\u001b[39m\n\u001b[32m     26\u001b[39m         lookup_name = lookup_name \u001b[38;5;129;01mor\u001b[39;00m prop_name\n\u001b[32m     27\u001b[39m         class_name = lookup_name.title() + \u001b[33m\"\u001b[39m\u001b[33mValidator\u001b[39m\u001b[33m\"\u001b[39m\n\u001b[32m     28\u001b[39m         validator = \u001b[38;5;28mgetattr\u001b[39m(\n\u001b[32m---> \u001b[39m\u001b[32m29\u001b[39m             \u001b[43mimportlib\u001b[49m\u001b[43m.\u001b[49m\u001b[43mimport_module\u001b[49m\u001b[43m(\u001b[49m\u001b[33;43m\"\u001b[39;49m\u001b[33;43mplotly.validators.\u001b[39;49m\u001b[33;43m\"\u001b[39;49m\u001b[43m \u001b[49m\u001b[43m+\u001b[49m\u001b[43m \u001b[49m\u001b[43mparent_path\u001b[49m\u001b[43m)\u001b[49m,\n\u001b[32m     30\u001b[39m             class_name,\n\u001b[32m     31\u001b[39m         )(plotly_name=prop_name)\n\u001b[32m     32\u001b[39m     ValidatorCache._cache[key] = validator\n\u001b[32m     34\u001b[39m \u001b[38;5;28;01mreturn\u001b[39;00m ValidatorCache._cache[key]\n",
      "\u001b[36mFile \u001b[39m\u001b[32m~\\AppData\\Local\\anaconda3\\Lib\\importlib\\__init__.py:90\u001b[39m, in \u001b[36mimport_module\u001b[39m\u001b[34m(name, package)\u001b[39m\n\u001b[32m     88\u001b[39m             \u001b[38;5;28;01mbreak\u001b[39;00m\n\u001b[32m     89\u001b[39m         level += \u001b[32m1\u001b[39m\n\u001b[32m---> \u001b[39m\u001b[32m90\u001b[39m \u001b[38;5;28;01mreturn\u001b[39;00m \u001b[43m_bootstrap\u001b[49m\u001b[43m.\u001b[49m\u001b[43m_gcd_import\u001b[49m\u001b[43m(\u001b[49m\u001b[43mname\u001b[49m\u001b[43m[\u001b[49m\u001b[43mlevel\u001b[49m\u001b[43m:\u001b[49m\u001b[43m]\u001b[49m\u001b[43m,\u001b[49m\u001b[43m \u001b[49m\u001b[43mpackage\u001b[49m\u001b[43m,\u001b[49m\u001b[43m \u001b[49m\u001b[43mlevel\u001b[49m\u001b[43m)\u001b[49m\n",
      "\u001b[36mFile \u001b[39m\u001b[32m<frozen importlib._bootstrap>:1387\u001b[39m, in \u001b[36m_gcd_import\u001b[39m\u001b[34m(name, package, level)\u001b[39m\n",
      "\u001b[36mFile \u001b[39m\u001b[32m<frozen importlib._bootstrap>:1360\u001b[39m, in \u001b[36m_find_and_load\u001b[39m\u001b[34m(name, import_)\u001b[39m\n",
      "\u001b[36mFile \u001b[39m\u001b[32m<frozen importlib._bootstrap>:1331\u001b[39m, in \u001b[36m_find_and_load_unlocked\u001b[39m\u001b[34m(name, import_)\u001b[39m\n",
      "\u001b[36mFile \u001b[39m\u001b[32m<frozen importlib._bootstrap>:935\u001b[39m, in \u001b[36m_load_unlocked\u001b[39m\u001b[34m(spec)\u001b[39m\n",
      "\u001b[36mFile \u001b[39m\u001b[32m<frozen importlib._bootstrap_external>:991\u001b[39m, in \u001b[36mexec_module\u001b[39m\u001b[34m(self, module)\u001b[39m\n",
      "\u001b[36mFile \u001b[39m\u001b[32m<frozen importlib._bootstrap_external>:1087\u001b[39m, in \u001b[36mget_code\u001b[39m\u001b[34m(self, fullname)\u001b[39m\n",
      "\u001b[36mFile \u001b[39m\u001b[32m<frozen importlib._bootstrap_external>:1186\u001b[39m, in \u001b[36mget_data\u001b[39m\u001b[34m(self, path)\u001b[39m\n",
      "\u001b[31mKeyboardInterrupt\u001b[39m: "
     ]
    }
   ],
   "source": [
    "cv_train(df,conf)"
   ]
  },
  {
   "cell_type": "code",
   "execution_count": null,
   "metadata": {},
   "outputs": [],
   "source": []
  }
 ],
 "metadata": {
  "kernelspec": {
   "display_name": ".venv",
   "language": "python",
   "name": "python3"
  },
  "language_info": {
   "codemirror_mode": {
    "name": "ipython",
    "version": 3
   },
   "file_extension": ".py",
   "mimetype": "text/x-python",
   "name": "python",
   "nbconvert_exporter": "python",
   "pygments_lexer": "ipython3",
   "version": "3.12.7"
  }
 },
 "nbformat": 4,
 "nbformat_minor": 2
}
